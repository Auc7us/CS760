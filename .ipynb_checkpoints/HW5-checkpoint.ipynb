{
 "cells": [
  {
   "cell_type": "code",
   "execution_count": 116,
   "id": "a59279a2-3ff1-405c-bf3c-257e9cf54c75",
   "metadata": {},
   "outputs": [
    {
     "name": "stderr",
     "output_type": "stream",
     "text": [
      "/home/flash/anaconda3/envs/760/lib/python3.11/site-packages/sklearn/base.py:464: UserWarning: X does not have valid feature names, but MinMaxScaler was fitted with feature names\n",
      "  warnings.warn(\n"
     ]
    },
    {
     "data": {
      "image/png": "[encoded data removed]",
      "text/plain": [
       "<Figure size 1000x600 with 1 Axes>"
      ]
     },
     "metadata": {},
     "output_type": "display_data"
    }
   ],
   "source": [
    "import pandas as pd\n",
    "from sklearn.model_selection import train_test_split\n",
    "from sklearn.preprocessing import MinMaxScaler\n",
    "import numpy as np\n",
    "import matplotlib.pyplot as plt\n",
    "\n",
    "datasetPath = 'titanic_data.csv'  \n",
    "titanic_data = pd.read_csv(dataPath)\n",
    "\n",
    "features = titanic_data.drop('Survived', axis=1)\n",
    "labels = titanic_data['Survived']\n",
    "X_train, X_test, y_train, y_test = train_test_split(features, labels, test_size=0.2, random_state=42)\n",
    "\n",
    "scaler = MinMaxScaler()\n",
    "X_train_scaled = scaler.fit_transform(X_train)\n",
    "X_test_scaled = scaler.transform(X_test)\n",
    "\n",
    "X_train_scaled = pd.DataFrame(X_train_scaled, columns=X_train.columns)\n",
    "X_test_scaled = pd.DataFrame(X_test_scaled, columns=X_test.columns)\n",
    "\n",
    "def knnPredict_range(X_train_scaled, y_train, test_instance_scaled, max_k):\n",
    "    allPredictions = []\n",
    "    \n",
    "    # Calculate Euclidean distances and make predictions for each k\n",
    "    for k in range(1, max_k + 1):\n",
    "        distances = np.sqrt(((X_train_scaled - test_instance_scaled) ** 2).sum(axis=1))\n",
    "        nearest_neighbors = y_train.iloc[distances.nsmallest(k).index]\n",
    "        vote = nearest_neighbors.mode()[0]\n",
    "        allPredictions.append(vote)\n",
    "    \n",
    "    return allPredictions\n",
    "\n",
    "x = [2, 1, 24, 1, 0, 45]\n",
    "x_scaled = scaler.transform([x])\n",
    "N = 20\n",
    "predictions = knnPredict_range(X_train_scaled, y_train, x_scaled[0], N)\n",
    "\n",
    "plt.figure(figsize=(10, 6))\n",
    "plt.plot(range(1, N + 1), predictions, marker='x', linestyle='-', color='blue')\n",
    "plt.title('Survival Predictions for Varying K')\n",
    "plt.xlabel('K')\n",
    "plt.ylabel('Predicted Survival (1=Survived, 0=Did Not Survive)')\n",
    "plt.xticks(range(1, N + 1))  # Fix the x-axis ticks\n",
    "plt.yticks([0, 1])\n",
    "plt.grid(True)\n",
    "plt.show()\n"
   ]
  },
  {
   "cell_type": "code",
   "execution_count": 120,
   "id": "8a5a257b-0382-41c6-a910-37d0d3142d16",
   "metadata": {},
   "outputs": [
    {
     "name": "stdout",
     "output_type": "stream",
     "text": [
      "Model Accuracy: 0.7359550561797753\n"
     ]
    }
   ],
   "source": [
    "# Load the dataset\n",
    "titanic_dataset = pd.read_csv(datasetPath)\n",
    "\n",
    "# Preparing the data\n",
    "feature_columns = titanic_dataset.drop('Survived', axis=1)\n",
    "target_column = titanic_dataset['Survived']\n",
    "X_training, X_testing, y_training, y_testing = train_test_split(feature_columns, target_column, test_size=0.2, random_state=42)\n",
    "\n",
    "class GNaiveBayes:\n",
    "    def train(self, features, target):\n",
    "        self.class_labels = np.unique(target)\n",
    "        self.classFeatures = {}\n",
    "        for label in self.class_labels:\n",
    "            features_of_class = features[target == label]\n",
    "            self.classFeatures[label] = {\n",
    "                'means': features_of_class.mean(axis=0),\n",
    "                'vars': features_of_class.var(axis=0),\n",
    "                'priProb': features_of_class.shape[0] / features.shape[0]\n",
    "            }\n",
    "    \n",
    "    def gProb(self, mean, var, featureVal):\n",
    "        exponent_term = np.exp(-((featureVal - mean) ** 2) / (2 * var))\n",
    "        return exponent_term / np.sqrt(2 * np.pi * var)\n",
    "    \n",
    "    def computePost(self, feature_set):\n",
    "        classPosts = []\n",
    "        for label in self.class_labels:\n",
    "            logPri = np.log(self.classFeatures[label]['priProb'])\n",
    "            class_likelihoods = self.gProb(self.classFeatures[label]['means'], self.classFeatures[label]['vars'], feature_set)\n",
    "            total_likelihood = np.sum(np.log(class_likelihoods))\n",
    "            post = logPri + total_likelihood\n",
    "            classPosts.append(post)\n",
    "        return self.class_labels[np.argmax(classPosts)]\n",
    "    \n",
    "    def classify(self, features_set):\n",
    "        predicted_labels = [self.computePost(features) for features in features_set.to_numpy()]\n",
    "        return np.array(predicted_labels)\n",
    "\n",
    "gnbModel = GNaiveBayes()\n",
    "\n",
    "gnbModel.train(X_training, y_training)\n",
    "\n",
    "yPredictions = gnbModel.classify(X_testing)\n",
    "\n",
    "model_accuracy = (y_testing == yPredictions).mean()\n",
    "print(f'Model Accuracy: {model_accuracy}')\n"
   ]
  },
  {
   "cell_type": "code",
   "execution_count": 121,
   "id": "a00e51b6-be63-4ac3-81cf-a02d625ecc56",
   "metadata": {},
   "outputs": [
    {
     "name": "stdout",
     "output_type": "stream",
     "text": [
      "I survive the Titanic.\n"
     ]
    }
   ],
   "source": [
    "featureVector = np.array([2, 1, 24, 1, 0, 45])\n",
    "prediction = gnbModel.computePost(featureVector)\n",
    "if prediction == 1:\n",
    "    print(\"I survive the Titanic.\")\n",
    "else:\n",
    "    print(\"I dont survive Titanic.\")"
   ]
  },
  {
   "cell_type": "code",
   "execution_count": 122,
   "id": "f3c3c260-55a5-4153-b34c-d868c95b32fe",
   "metadata": {},
   "outputs": [
    {
     "data": {
      "text/plain": [
       "(0.0006471370319999999, 5.0147748922449326e-08, True)"
      ]
     },
     "execution_count": 122,
     "metadata": {},
     "output_type": "execute_result"
    }
   ],
   "source": [
    "def gPdf(value, mean, var):\n",
    "    return (1 / np.sqrt(2 * np.pi * var)) * np.exp(- (value - mean) ** 2 / (2 * var))\n",
    "\n",
    "fMeans = [38, 168, 6.75]\n",
    "fVars = [2, 50, 0.125]\n",
    "evidence = [42, 180, 5.5]\n",
    "\n",
    "likelihoodsF = [\n",
    "    gPdf(evidence[0], fMeans[0], fVars[0]),\n",
    "    gPdf(evidence[1], fMeans[1], fVars[1]),\n",
    "    gPdf(evidence[2], fMeans[2], fVars[2])]\n",
    "\n",
    "priF = 1/3\n",
    "\n",
    "postF = priF\n",
    "for likelihood in likelihoodsF:\n",
    "    postF *= likelihood\n",
    "\n",
    "postM = 0.0006471370319999999\n",
    "\n",
    "postM, postF, postM > postF\n"
   ]
  },
  {
   "cell_type": "code",
   "execution_count": null,
   "id": "c469ec14-babe-4c09-b70c-1d72e4c99695",
   "metadata": {},
   "outputs": [],
   "source": []
  }
 ],
 "metadata": {
  "kernelspec": {
   "display_name": "Python 3 (ipykernel)",
   "language": "python",
   "name": "python3"
  },
  "language_info": {
   "codemirror_mode": {
    "name": "ipython",
    "version": 3
   },
   "file_extension": ".py",
   "mimetype": "text/x-python",
   "name": "python",
   "nbconvert_exporter": "python",
   "pygments_lexer": "ipython3",
   "version": "3.11.8"
  }
 },
 "nbformat": 4,
 "nbformat_minor": 5
}
